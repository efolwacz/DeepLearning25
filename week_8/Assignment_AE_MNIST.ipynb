{
  "nbformat": 4,
  "nbformat_minor": 0,
  "metadata": {
    "colab": {
      "name": "Assignment-AE-MNIST.ipynb",
      "provenance": [],
      "machine_shape": "hm",
      "gpuType": "A100"
    },
    "kernelspec": {
      "name": "python3",
      "display_name": "Python 3"
    },
    "language_info": {
      "name": "python"
    },
    "accelerator": "GPU"
  },
  "cells": [
    {
      "cell_type": "markdown",
      "source": [
        "# Assignment Week 8\n",
        "Data Augmentation and AE Networks usinng MNIST"
      ],
      "metadata": {
        "id": "5_A5TUjvlJep"
      }
    },
    {
      "cell_type": "code",
      "execution_count": 42,
      "metadata": {
        "id": "f0QracyXjHFc"
      },
      "outputs": [],
      "source": [
        "#MNIST is a build in Pytorch dataset\n",
        "from torchvision import datasets as dts\n",
        "from torchvision.transforms import ToTensor\n",
        "train = dts.MNIST(\n",
        "    root = 'data',\n",
        "    train = True,\n",
        "    transform = ToTensor(),\n",
        "    download = True,\n",
        ")\n",
        "test = dts.MNIST(\n",
        "    root = 'data',\n",
        "    train = False,\n",
        "    transform = ToTensor()\n",
        ")"
      ]
    },
    {
      "cell_type": "code",
      "source": [
        "train[0][0].shape"
      ],
      "metadata": {
        "colab": {
          "base_uri": "https://localhost:8080/"
        },
        "id": "YZAxhGvYkcbz",
        "outputId": "32d2cc7c-dbc7-412c-9d62-84caa6fc4289"
      },
      "execution_count": 43,
      "outputs": [
        {
          "output_type": "execute_result",
          "data": {
            "text/plain": [
              "torch.Size([1, 28, 28])"
            ]
          },
          "metadata": {},
          "execution_count": 43
        }
      ]
    },
    {
      "cell_type": "code",
      "source": [
        "import matplotlib.pyplot as plt\n",
        "plt.imshow(train[0][0].reshape((28,28)), cmap='gray')"
      ],
      "metadata": {
        "id": "eHRx0_jAjIv_",
        "colab": {
          "base_uri": "https://localhost:8080/",
          "height": 447
        },
        "outputId": "034a95ac-e4a0-47db-b1b3-bd512b967bf9"
      },
      "execution_count": 44,
      "outputs": [
        {
          "output_type": "execute_result",
          "data": {
            "text/plain": [
              "<matplotlib.image.AxesImage at 0x7bb9cc92ca50>"
            ]
          },
          "metadata": {},
          "execution_count": 44
        },
        {
          "output_type": "display_data",
          "data": {
            "text/plain": [
              "<Figure size 640x480 with 1 Axes>"
            ],
            "image/png": "[encoded data removed]"
          },
          "metadata": {}
        }
      ]
    },
    {
      "cell_type": "markdown",
      "source": [
        "## Exercise 1\n",
        "Augment the training data with 6 differnet suitable augmentations\n",
        "* use the PyTorch augmentation framework -> https://pytorch.org/vision/stable/transforms.html\n",
        "* visualize some examples"
      ],
      "metadata": {
        "id": "oD6iiJHHmpv4"
      }
    },
    {
      "cell_type": "code",
      "source": [
        "from torchvision.transforms import v2\n",
        "import torch\n",
        "import matplotlib.pyplot as plt\n",
        "\n",
        "\n",
        "transforms = v2.Compose([\n",
        "    v2.RandomResizedCrop(size=(28, 28), antialias=True),\n",
        "    v2.RandomHorizontalFlip(p=0.5),\n",
        "    v2.RandomRotation(degrees=(0, 180)),\n",
        "    v2.RandomVerticalFlip(p=0.5),\n",
        "    v2.RandomApply(transforms=[v2.RandomCrop(size=(28, 28))], p=0.5),\n",
        "\n",
        "\n",
        "\n",
        "    v2.ToDtype(torch.float32, scale=True),\n",
        "    v2.Normalize(mean=[0.1307], std=[0.3081]),\n",
        "])\n",
        "\n",
        "\n",
        "\n",
        "\n"
      ],
      "metadata": {
        "id": "NlewbwbKkITw"
      },
      "execution_count": 57,
      "outputs": []
    },
    {
      "cell_type": "code",
      "source": [
        "train.data.shape\n"
      ],
      "metadata": {
        "colab": {
          "base_uri": "https://localhost:8080/"
        },
        "id": "bQb0ACEJOYAd",
        "outputId": "1de361f1-c3bc-42a8-9366-76f0becec62a"
      },
      "execution_count": 55,
      "outputs": [
        {
          "output_type": "execute_result",
          "data": {
            "text/plain": [
              "torch.Size([60000, 28, 28])"
            ]
          },
          "metadata": {},
          "execution_count": 55
        }
      ]
    },
    {
      "cell_type": "code",
      "source": [
        "# creating augmented traindata\n",
        "\n",
        "augmented =  [transforms(img.unsqueeze(0)) for img in train.data]"
      ],
      "metadata": {
        "id": "ldZKdQ9WOJ78"
      },
      "execution_count": 58,
      "outputs": []
    },
    {
      "cell_type": "code",
      "source": [
        "augmented = torch.stack(augmented).shape"
      ],
      "metadata": {
        "id": "rELlH55_HW9v"
      },
      "execution_count": 53,
      "outputs": []
    },
    {
      "cell_type": "code",
      "source": [
        "images = augmented[:3]\n",
        "\n",
        "\n",
        "for i, img in enumerate(images):\n",
        "    plt.subplot(1, 3, i+1)\n",
        "    plt.imshow(img.squeeze(), cmap=\"gray\")\n",
        "    plt.title(f\"Augmented #{i+1}\")\n",
        "    plt.axis('off')\n",
        "\n",
        "plt.tight_layout()\n",
        "plt.show()"
      ],
      "metadata": {
        "colab": {
          "base_uri": "https://localhost:8080/",
          "height": 252
        },
        "id": "O2bfsMEjKJRM",
        "outputId": "f4873eda-0d92-41fa-982e-290ce76e741a"
      },
      "execution_count": 62,
      "outputs": [
        {
          "output_type": "display_data",
          "data": {
            "text/plain": [
              "<Figure size 640x480 with 3 Axes>"
            ],
            "image/png": "[encoded data removed]"
          },
          "metadata": {}
        }
      ]
    },
    {
      "cell_type": "markdown",
      "source": [
        "## Exercise 2\n",
        "Build and train a MLP Autoencoder with\n",
        "* 2 Encoder Layers\n",
        "* 2 Decoder Layers\n",
        "* Identity Loss"
      ],
      "metadata": {
        "id": "o1GVo26EnDEU"
      }
    },
    {
      "cell_type": "code",
      "source": [],
      "metadata": {
        "id": "6CvHjqKdoGjn"
      },
      "execution_count": null,
      "outputs": []
    },
    {
      "cell_type": "markdown",
      "source": [
        "## Exercise 3\n"
      ],
      "metadata": {
        "id": "VziHLrXPoQaN"
      }
    },
    {
      "cell_type": "markdown",
      "source": [
        "Use the Gaussian Noise as augmentation and your AE to remove the noise.\n",
        "* visualize input and output examples"
      ],
      "metadata": {
        "id": "eEVmHUmwoVu0"
      }
    },
    {
      "cell_type": "code",
      "source": [
        "class AddGaussianNoise(object):\n",
        "    def __init__(self, mean=0., std=1.):\n",
        "        self.std = std\n",
        "        self.mean = mean\n",
        "\n",
        "    def __call__(self, tensor):\n",
        "        return tensor + torch.randn(tensor.size()) * self.std + self.mean\n",
        "\n",
        "    def __repr__(self):\n",
        "        return self.__class__.__name__ + '(mean={0}, std={1})'.format(self.mean, self.std)"
      ],
      "metadata": {
        "id": "2bULuZo6oUFD"
      },
      "execution_count": null,
      "outputs": []
    },
    {
      "cell_type": "code",
      "source": [],
      "metadata": {
        "id": "H4FBzjXaojyC"
      },
      "execution_count": null,
      "outputs": []
    },
    {
      "cell_type": "markdown",
      "source": [
        "## Exercise 4\n",
        "Clustering: extract the latent space representations of the train data and apply K-Means (fron Scikit-Learn) with k=10. Use the data lables to evaluate the cluter quality."
      ],
      "metadata": {
        "id": "j6vRtZMdopR3"
      }
    },
    {
      "cell_type": "code",
      "source": [],
      "metadata": {
        "id": "TE4vcPhFooIr"
      },
      "execution_count": null,
      "outputs": []
    }
  ]
}