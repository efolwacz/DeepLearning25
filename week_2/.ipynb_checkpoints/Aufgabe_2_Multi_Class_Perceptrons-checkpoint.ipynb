{
  "cells": [
    {
      "cell_type": "markdown",
      "metadata": {
        "id": "IfYeKPVlteUr"
      },
      "source": [
        "# Multi-Class Perceptrons"
      ]
    },
    {
      "cell_type": "code",
      "source": [
        "import numpy as np\n",
        "import matplotlib.pyplot as plt\n",
        "from sklearn.datasets import make_blobs #for data generatio"
      ],
      "metadata": {
        "id": "H16vPgrkzxbg"
      },
      "execution_count": 49,
      "outputs": []
    },
    {
      "cell_type": "code",
      "execution_count": 50,
      "metadata": {
        "id": "QTEFEXUOteUu"
      },
      "outputs": [],
      "source": [
        "X, y = make_blobs(n_samples=50, centers=3, cluster_std=0.2,n_features=2,center_box=(1,5),random_state=104)"
      ]
    },
    {
      "cell_type": "code",
      "execution_count": 51,
      "metadata": {
        "scrolled": true,
        "colab": {
          "base_uri": "https://localhost:8080/",
          "height": 453
        },
        "id": "zKxOyYgxteUw",
        "outputId": "77a992af-f924-4dd8-ce0e-4e65695d97aa"
      },
      "outputs": [
        {
          "output_type": "execute_result",
          "data": {
            "text/plain": [
              "<matplotlib.colorbar.Colorbar at 0x7ecb1b8eba90>"
            ]
          },
          "metadata": {},
          "execution_count": 51
        },
        {
          "output_type": "display_data",
          "data": {
            "text/plain": [
              "<Figure size 640x480 with 2 Axes>"
            ],
            "image/png": "[encoded data removed]"
          },
          "metadata": {}
        }
      ],
      "source": [
        "plt.scatter(X[:,0],X[:,1],c=y)\n",
        "plt.colorbar()"
      ]
    },
    {
      "cell_type": "markdown",
      "metadata": {
        "id": "s1xOoTozteUy"
      },
      "source": [
        "### draw Percepton layout\n",
        "* Hint: now we have more then one Perceptron\n",
        "* write math. formulation as linear model"
      ]
    },
    {
      "cell_type": "code",
      "execution_count": 102,
      "metadata": {
        "id": "cCQBWyc9teUz"
      },
      "outputs": [],
      "source": [
        "def multiClass(X,W,b):\n",
        "    result = X.dot(W.T)+b\n",
        "    #print(result)\n",
        "    return np.argmax(result)\n",
        "\n"
      ]
    },
    {
      "cell_type": "markdown",
      "metadata": {
        "id": "kaNlLkCyteUz"
      },
      "source": [
        "### Transform lables to one-hot coding\n",
        "* Hint: Use Scikit-Learn"
      ]
    },
    {
      "cell_type": "code",
      "execution_count": 54,
      "metadata": {
        "id": "5cVqS7mlteU0"
      },
      "outputs": [],
      "source": [
        "from sklearn.preprocessing import OneHotEncoder\n",
        "\n",
        "encoder = OneHotEncoder(handle_unknown=\"ignore\")\n",
        "\n",
        "y_oneH = encoder.fit_transform(y.reshape(-1,1)).toarray()\n",
        "\n"
      ]
    },
    {
      "cell_type": "markdown",
      "metadata": {
        "id": "eTPy8kc1teU0"
      },
      "source": [
        "### Manually find parameters $w$ and $b$ for\n",
        "* for each Perceptron seperately\n",
        "* then combine to single matrix multiplication formulation"
      ]
    },
    {
      "cell_type": "code",
      "source": [
        "def plot_line_from_normal_vector_and_offset(normal_vector, offset, x_range=None, ax=None, **kwargs):\n",
        "    \"\"\"\n",
        "    Plots a 2D line defined by its normal vector w and offset b such that wx + b = 0.\n",
        "\n",
        "    Args:\n",
        "        normal_vector (list or numpy.ndarray): A 2D vector representing the normal to the line (w). Must be of length 2.\n",
        "        offset (float): The offset (b) such that w.x + b = 0.\n",
        "        x_range (tuple, optional): A tuple (xmin, xmax) specifying the range of x-values to plot.\n",
        "                                     If None (default), a reasonable range is automatically determined.\n",
        "        ax (matplotlib.axes._axes.Axes, optional): The matplotlib axes object to plot on. If None (default),\n",
        "                                                  the current axes (plt.gca()) is used, or a new figure and axes\n",
        "                                                  are created.\n",
        "        **kwargs: Keyword arguments to pass to the `plot` function (e.g., color, linestyle, linewidth).\n",
        "\n",
        "    Returns:\n",
        "        matplotlib.lines.Line2D: The line object created by `ax.plot`.\n",
        "    \"\"\"\n",
        "    normal_vector = np.array(normal_vector)  # Ensure it's a NumPy array for calculations\n",
        "\n",
        "    if normal_vector.shape != (2,):\n",
        "        raise ValueError(\"Normal vector must be a 2D vector (length 2).\")\n",
        "\n",
        "    w1, w2 = normal_vector\n",
        "\n",
        "    if ax is None:\n",
        "        fig, ax = plt.subplots()\n",
        "\n",
        "    if x_range is None:\n",
        "        # Determine a reasonable x-range\n",
        "        xmin = -5\n",
        "        xmax = 5\n",
        "        x_range = (xmin, xmax)\n",
        "\n",
        "    xmin, xmax = x_range\n",
        "    x = np.linspace(xmin, xmax, 100)  # Generate x-values\n",
        "\n",
        "    if w2 != 0:\n",
        "        y = (-w1 * x - offset) / w2  # Solve for y: w1*x + w2*y + b = 0  =>  y = (-w1*x - b) / w2\n",
        "    else:\n",
        "        # Handle the case where the line is vertical (w2=0). Plot a vertical line.\n",
        "        if w1 == 0:\n",
        "            raise ValueError(\"Cannot plot line with w1=0 and w2=0.\")\n",
        "        x = np.full_like(x, -offset / w1)  # x is constant for a vertical line\n",
        "        y = np.linspace(ax.get_ylim()[0], ax.get_ylim()[1], 100)  # generate y values spanning the current y-axis.\n",
        "\n",
        "\n",
        "\n",
        "    line, = ax.plot(x, y, **kwargs)\n",
        "\n",
        "    return line"
      ],
      "metadata": {
        "id": "EfdqxF9KFNp-"
      },
      "execution_count": null,
      "outputs": []
    },
    {
      "cell_type": "code",
      "source": [
        "w1 = np.array([1, -1])\n",
        "b1 = 1\n",
        "\n",
        "w2 = np.array([1, 1])\n",
        "b2 = -5\n",
        "\n",
        "w3 = np.array([3, -1])\n",
        "b3 = -6\n",
        "\n",
        "\n",
        "\n",
        "\n",
        "W = np.array([w1, w2, w3])\n",
        "\n",
        "b = np.array([b1, b2, b3])"
      ],
      "metadata": {
        "id": "GyTipMhEIJci"
      },
      "execution_count": 189,
      "outputs": []
    },
    {
      "cell_type": "code",
      "source": [
        "line1 = plot_line_from_normal_vector_and_offset(W[0], b[0], color='blue',x_range=[0,10])\n",
        "\n",
        "plt.scatter(X[:,0],X[:,1],c=y)\n",
        "#plt.quiver(0,0,W[0],W[1])\n",
        "plt.grid()"
      ],
      "metadata": {
        "colab": {
          "base_uri": "https://localhost:8080/",
          "height": 430
        },
        "id": "FMqlZRYXFYYT",
        "outputId": "32cc0bd5-1076-40f8-aff2-0784c3de55fa"
      },
      "execution_count": 194,
      "outputs": [
        {
          "output_type": "display_data",
          "data": {
            "text/plain": [
              "<Figure size 640x480 with 1 Axes>"
            ],
            "image/png": "[encoded data removed]"
          },
          "metadata": {}
        }
      ]
    },
    {
      "cell_type": "code",
      "execution_count": 191,
      "metadata": {
        "id": "y1fG9dZsteU1"
      },
      "outputs": [],
      "source": [
        "w1 = np.array([1, -1])\n",
        "b1 = 1\n",
        "\n",
        "w2 = np.array([1, 1])\n",
        "b2 = -5\n",
        "\n",
        "w3 = np.array([1, 1])\n",
        "b3 = -4.35\n",
        "\n",
        "\n",
        "\n",
        "\n",
        "W = np.array([w1, w2, w3])\n",
        "\n",
        "b = np.array([b1, b2, b3])"
      ]
    },
    {
      "cell_type": "markdown",
      "metadata": {
        "id": "mJh_BUYkteU1"
      },
      "source": [
        "#### test single perceptrons by class\n"
      ]
    },
    {
      "cell_type": "code",
      "execution_count": 192,
      "metadata": {
        "colab": {
          "base_uri": "https://localhost:8080/"
        },
        "id": "hFcAi580teU2",
        "outputId": "b6cc2972-3b08-40a8-93e8-03ad12642361"
      },
      "outputs": [
        {
          "output_type": "execute_result",
          "data": {
            "text/plain": [
              "array([[ True, False, False],\n",
              "       [False,  True, False],\n",
              "       [False, False,  True],\n",
              "       [False,  True, False],\n",
              "       [False, False,  True],\n",
              "       [False, False,  True],\n",
              "       [False,  True, False],\n",
              "       [ True, False, False],\n",
              "       [False, False,  True],\n",
              "       [False, False,  True],\n",
              "       [ True, False, False],\n",
              "       [False, False,  True],\n",
              "       [ True, False, False],\n",
              "       [False,  True, False],\n",
              "       [False,  True, False],\n",
              "       [ True, False, False],\n",
              "       [ True, False, False],\n",
              "       [False,  True, False],\n",
              "       [False,  True, False],\n",
              "       [ True, False, False],\n",
              "       [False, False,  True],\n",
              "       [False,  True, False],\n",
              "       [False, False,  True],\n",
              "       [False,  True, False],\n",
              "       [False,  True, False],\n",
              "       [False,  True, False],\n",
              "       [ True, False, False],\n",
              "       [False,  True, False],\n",
              "       [False, False,  True],\n",
              "       [False,  True, False],\n",
              "       [False, False,  True],\n",
              "       [ True, False, False],\n",
              "       [ True, False, False],\n",
              "       [False,  True, False],\n",
              "       [False, False,  True],\n",
              "       [False, False,  True],\n",
              "       [False, False,  True],\n",
              "       [ True, False, False],\n",
              "       [False, False,  True],\n",
              "       [ True, False, False],\n",
              "       [ True, False, False],\n",
              "       [False, False,  True],\n",
              "       [ True, False, False],\n",
              "       [False, False,  True],\n",
              "       [False,  True, False],\n",
              "       [ True, False, False],\n",
              "       [ True, False, False],\n",
              "       [False,  True, False],\n",
              "       [ True, False, False],\n",
              "       [False,  True, False]])"
            ]
          },
          "metadata": {},
          "execution_count": 192
        }
      ],
      "source": [
        "# print(y_oneH == np.sign(X.dot(W.T) + b))\n",
        "y_oneH == np.sign(multiClass(X,W,b))"
      ]
    },
    {
      "cell_type": "markdown",
      "metadata": {
        "id": "xmjA_JCBteU2"
      },
      "source": [
        "#### test full Setup"
      ]
    },
    {
      "cell_type": "code",
      "source": [
        "https://kenndanielso.github.io/mlrefined/blog_posts/10_Linear_multiclass_classification/10_2_Multiclass_classification.html"
      ],
      "metadata": {
        "id": "cMdejPXXG7bm"
      },
      "execution_count": null,
      "outputs": []
    },
    {
      "cell_type": "markdown",
      "metadata": {
        "id": "paCwM8OOteU2"
      },
      "source": [
        "## Add non-linear activation / loss -> $softmax$\n",
        "* implement a $softmax$ function\n",
        "* replace $sgn$ by $softmax$\n",
        "* plot confidence of the test samples"
      ]
    },
    {
      "cell_type": "code",
      "execution_count": 162,
      "metadata": {
        "id": "x4P7tPdkteU2"
      },
      "outputs": [],
      "source": [
        "def softmax(x):\n",
        "    a = np.log(np.sum(np.exp(x),axis = 0))\n",
        "    return a.item()"
      ]
    },
    {
      "cell_type": "code",
      "execution_count": 163,
      "metadata": {
        "colab": {
          "base_uri": "https://localhost:8080/"
        },
        "id": "LqvjoUzTteU3",
        "outputId": "088824c6-b0ed-4dc9-a0f8-4e7ca8c0f8ff"
      },
      "outputs": [
        {
          "output_type": "execute_result",
          "data": {
            "text/plain": [
              "132.0"
            ]
          },
          "metadata": {},
          "execution_count": 163
        }
      ],
      "source": [
        "softmax(multiClass(X,W,b))"
      ]
    },
    {
      "cell_type": "code",
      "execution_count": null,
      "metadata": {
        "id": "CPIY23fZteU3"
      },
      "outputs": [],
      "source": []
    }
  ],
  "metadata": {
    "celltoolbar": "Slideshow",
    "kernelspec": {
      "display_name": "Python 3",
      "language": "python",
      "name": "python3"
    },
    "language_info": {
      "codemirror_mode": {
        "name": "ipython",
        "version": 3
      },
      "file_extension": ".py",
      "mimetype": "text/x-python",
      "name": "python",
      "nbconvert_exporter": "python",
      "pygments_lexer": "ipython3",
      "version": "3.7.6"
    },
    "colab": {
      "provenance": []
    }
  },
  "nbformat": 4,
  "nbformat_minor": 0
}